{
 "cells": [
  {
   "cell_type": "code",
   "execution_count": 1,
   "metadata": {},
   "outputs": [
    {
     "name": "stderr",
     "output_type": "stream",
     "text": [
      "C:\\Users\\Pro\\miniconda3\\envs\\fromscratch\\lib\\site-packages\\ipykernel_launcher.py:11: SettingWithCopyWarning: \n",
      "A value is trying to be set on a copy of a slice from a DataFrame.\n",
      "Try using .loc[row_indexer,col_indexer] = value instead\n",
      "\n",
      "See the caveats in the documentation: https://pandas.pydata.org/pandas-docs/stable/user_guide/indexing.html#returning-a-view-versus-a-copy\n",
      "  # This is added back by InteractiveShellApp.init_path()\n"
     ]
    },
    {
     "name": "stdout",
     "output_type": "stream",
     "text": [
      "['OTHER' 'TRANSPORT' 'TELEPHONE BILL' 'GROCERIES' 'BANK FEES' 'RESTAURANT']\n"
     ]
    },
    {
     "data": {
      "image/png": "[encoded data removed]",
      "text/plain": [
       "<Figure size 432x288 with 1 Axes>"
      ]
     },
     "metadata": {
      "needs_background": "light"
     },
     "output_type": "display_data"
    },
    {
     "data": {
      "text/plain": [
       "0.027522800301841503"
      ]
     },
     "execution_count": 1,
     "metadata": {},
     "output_type": "execute_result"
    }
   ],
   "source": [
    "import datetime as dt\n",
    "import pandas as pd\n",
    "import numpy as np\n",
    "import random\n",
    "import scipy.stats as st\n",
    "from matplotlib import pyplot as plot\n",
    "data=pd.read_csv('operations.csv',parse_dates=[0])\n",
    "X=\"categ\"\n",
    "Y=\"amount\"\n",
    "sub_sample=data[data[\"amount\"]<0]\n",
    "sub_sample[\"amount\"]=-sub_sample[\"amount\"]\n",
    "sub_sample=sub_sample[sub_sample[\"categ\"]!=\"RENT\"]\n",
    "list_categ=sub_sample[X].unique()\n",
    "groupe=[]\n",
    "print(list_categ)\n",
    "m='TELEPHONE BILL'\n",
    "for m in list_categ:\n",
    "    groupe.append(sub_sample[sub_sample[X]==m][Y].sum())\n",
    "groupe\n",
    "plot.bar(list_categ,groupe)\n",
    "plot.show()\n",
    "def etat_squared(x,y):\n",
    "    information=[]\n",
    "    mu=y.mean()\n",
    "    for category in x.unique():\n",
    "        yi_categories=y[x==category]\n",
    "        information.append({'n_i':len(yi_categories),'mu_i':yi_categories.mean()})\n",
    "    TSS = sum([(yj-mu)**2 for yj in y])\n",
    "    ESS = sum([c['n_i']*(c['mu_i']-mu)**2 for c in information])\n",
    "    return ESS/TSS\n",
    "etat_squared(sub_sample[X],sub_sample[Y])"
   ]
  },
  {
   "cell_type": "code",
   "execution_count": null,
   "metadata": {},
   "outputs": [],
   "source": []
  },
  {
   "cell_type": "code",
   "execution_count": null,
   "metadata": {},
   "outputs": [],
   "source": []
  }
 ],
 "metadata": {
  "kernelspec": {
   "display_name": "Python 3",
   "language": "python",
   "name": "python3"
  },
  "language_info": {
   "codemirror_mode": {
    "name": "ipython",
    "version": 3
   },
   "file_extension": ".py",
   "mimetype": "text/x-python",
   "name": "python",
   "nbconvert_exporter": "python",
   "pygments_lexer": "ipython3",
   "version": "3.7.7"
  }
 },
 "nbformat": 4,
 "nbformat_minor": 4
}
