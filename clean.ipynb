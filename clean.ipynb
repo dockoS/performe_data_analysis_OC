{
 "cells": [
  {
   "cell_type": "code",
   "execution_count": 35,
   "metadata": {},
   "outputs": [
    {
     "name": "stdout",
     "output_type": "stream",
     "text": [
      "  first name                                   email  date_of_birth  \\\n",
      "0      Leila                       leila@example.com     23/01/1990   \n",
      "1     Samuel                  samuel_329@example.com     20/09/2001   \n",
      "2     Rodney                choupipoune@supermail.eu  12 sept. 1984   \n",
      "3       Marc  marco23@example.com, mc23@supermail.eu     10/02/1978   \n",
      "4      Harry                 helloworld@supermail.eu     04/25/1975   \n",
      "5      Hanna                 hannah2019@supermail.eu     01/01/1970   \n",
      "6     samuël                  samuel_329@example.com            NaN   \n",
      "\n",
      "      country height  \n",
      "0      France  1.49m  \n",
      "1         NaN  1.67m  \n",
      "2  Madagascar  153cm  \n",
      "3          24  1.65m  \n",
      "4     Germany  1.34m  \n",
      "5      Canada  3.45m  \n",
      "6       Benin  1.45m  \n",
      "Ya plusieurs mails:  ['marco23@example.com', ' mc23@supermail.eu'] nous avons pris marco23@example.com\n",
      "country delected\n",
      "country delected\n",
      "country delected\n",
      "  first name                     email date_of_birth     country    height\n",
      "0      Leila         leila@example.com    1990-01-23      France  1.490000\n",
      "1     Samuel    samuel_329@example.com    2001-09-20         NaN  1.670000\n",
      "2     Rodney  choupipoune@supermail.eu           NaT  Madagascar  1.841667\n",
      "3       Marc       marco23@example.com    1978-02-10         NaN  1.650000\n",
      "4      Harry   helloworld@supermail.eu           NaT         NaN  1.340000\n",
      "5      Hanna   hannah2019@supermail.eu    1970-01-01      Canada  3.450000\n",
      "6     samuël    samuel_329@example.com           NaT       Benin  1.450000\n"
     ]
    }
   ],
   "source": [
    "import pandas as pd\n",
    "import numpy as np \n",
    "import re\n",
    "data=pd.read_csv('persons.csv')\n",
    "print(data)\n",
    "valide_counties=['France','Madagascar','Benin','Germain','Canada']\n",
    "def check_country(country):\n",
    "    if country not in valide_counties:\n",
    "        print(\"country delected\")\n",
    "        return np.NaN\n",
    "    return country\n",
    "def first(string):\n",
    "    parts=string.split(',')\n",
    "    first_part=parts[0]\n",
    "    if len(parts)>=2: print('Ya plusieurs mails: ',parts,'nous avons pris',first_part)\n",
    "    return first_part\n",
    "def convert_height(height):\n",
    "    found=re.search('\\d\\.\\d{2}m',height)\n",
    "    if found is None:\n",
    "        return np.NaN\n",
    "    else:\n",
    "        value=height[:-1]\n",
    "        return float(value)\n",
    "def fil_height(height,replacement):\n",
    "    if pd.isnull(height): return replacement\n",
    "    return height\n",
    "#i begin the cleaning dataset\n",
    "data['email']=data['email'].apply(first)\n",
    "data['country']=data['country'].apply(check_country)\n",
    "data['height']=data['height'].apply(convert_height)\n",
    "data['height']=[fil_height(t,data['height'].mean()) for t in data['height']]\n",
    "data['date_of_birth'] = pd.to_datetime(data['date_of_birth'], \n",
    "                                           format='%d/%m/%Y', errors='coerce')\n",
    "print(data)"
   ]
  },
  {
   "cell_type": "code",
   "execution_count": null,
   "metadata": {},
   "outputs": [],
   "source": []
  },
  {
   "cell_type": "code",
   "execution_count": null,
   "metadata": {},
   "outputs": [],
   "source": []
  }
 ],
 "metadata": {
  "kernelspec": {
   "display_name": "Python 3",
   "language": "python",
   "name": "python3"
  },
  "language_info": {
   "codemirror_mode": {
    "name": "ipython",
    "version": 3
   },
   "file_extension": ".py",
   "mimetype": "text/x-python",
   "name": "python",
   "nbconvert_exporter": "python",
   "pygments_lexer": "ipython3",
   "version": "3.7.7"
  }
 },
 "nbformat": 4,
 "nbformat_minor": 4
}
