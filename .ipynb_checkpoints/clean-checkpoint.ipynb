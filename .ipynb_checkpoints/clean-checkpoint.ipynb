{
 "cells": [
  {
   "cell_type": "code",
   "execution_count": 1,
   "metadata": {},
   "outputs": [
    {
     "name": "stdout",
     "output_type": "stream",
     "text": [
      "  first name                                   email  date_of_birth  \\\n",
      "0      Leila                       leila@example.com     23/01/1990   \n",
      "1     Samuel                  samuel_329@example.com     20/09/2001   \n",
      "2     Rodney                choupipoune@supermail.eu  12 sept. 1984   \n",
      "3       Marc  marco23@example.com, mc23@supermail.eu     10/02/1978   \n",
      "4      Harry                 helloworld@supermail.eu     04/25/1975   \n",
      "5      Hanna                 hannah2019@supermail.eu     01/01/1970   \n",
      "6     samuël                  samuel_329@example.com            NaN   \n",
      "\n",
      "      country height  \n",
      "0      France  1.49m  \n",
      "1         NaN  1.67m  \n",
      "2  Madagascar  153cm  \n",
      "3          24  1.65m  \n",
      "4     Germany  1.34m  \n",
      "5      Canada  3.45m  \n",
      "6       Benin  1.45m  \n"
     ]
    }
   ],
   "source": [
    "import pandas as pd\n",
    "import numpy as np \n",
    "import re\n",
    "data=pd.read_csv('persons.csv')\n",
    "print(data)"
   ]
  },
  {
   "cell_type": "code",
   "execution_count": null,
   "metadata": {},
   "outputs": [],
   "source": []
  }
 ],
 "metadata": {
  "kernelspec": {
   "display_name": "Python 3",
   "language": "python",
   "name": "python3"
  },
  "language_info": {
   "codemirror_mode": {
    "name": "ipython",
    "version": 3
   },
   "file_extension": ".py",
   "mimetype": "text/x-python",
   "name": "python",
   "nbconvert_exporter": "python",
   "pygments_lexer": "ipython3",
   "version": "3.7.7"
  }
 },
 "nbformat": 4,
 "nbformat_minor": 4
}
